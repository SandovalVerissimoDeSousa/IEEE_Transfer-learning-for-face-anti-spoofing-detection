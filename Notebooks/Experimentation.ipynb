{
 "cells": [
  {
   "cell_type": "markdown",
   "metadata": {},
   "source": [
    "# Introduction\n",
    "\n",
    "Notebook para descrever a experimentação/treinamentos das redes descritas no paper."
   ]
  },
  {
   "cell_type": "markdown",
   "metadata": {},
   "source": [
    "# Experiments"
   ]
  },
  {
   "cell_type": "markdown",
   "metadata": {},
   "source": [
    "## Raw Images"
   ]
  },
  {
   "cell_type": "markdown",
   "metadata": {},
   "source": [
    "Experimentos com imagens raw - projeto face-anti-spoofing-paper no Neptune:\n",
    "\n",
    "Raw Images:\n",
    "* experimentos são INTRA-DATASET\n",
    "* ideia central: verificar desempenho de treinos para cada dataset\n",
    "* train_datasets: NUAA, MSU, Replay Attack e OULU\n",
    "* test_datasets: NUAA, MSU, Replay Attack e OULU\n",
    "\n",
    "| Dataset | Experiment |\n",
    "| ----------- | ----------- |\n",
    "| Replay Attack |  | \n",
    "| NUAA | |\n",
    "| MSU | |\n",
    "| OULU | | "
   ]
  },
  {
   "cell_type": "markdown",
   "metadata": {},
   "source": [
    "## Face Cropping\n",
    "\n",
    "* 100% bounding box\n",
    "* 140% bounding box"
   ]
  },
  {
   "cell_type": "markdown",
   "metadata": {},
   "source": [
    "NUAA, Replay Attack e MSU : OK\n",
    "\n",
    "OULU: stretching é maior, mais visível\n",
    "\n",
    "==> dimensão das imagens de entrada do OULU : muito grandes"
   ]
  },
  {
   "cell_type": "markdown",
   "metadata": {},
   "source": [
    "### Table II : \n",
    "\n",
    "tag _**cropped**_ em Face-Anti-Spoofing-Paper Neptune\n",
    "\n",
    "Cropped:\n",
    "\n",
    "* experimentos são INTER-DATASET\n",
    "* ideia central: diminuir quantidade de ruído causado por background na avaliação/treinamento da rede\n",
    "* train_datasets: NUAA, MSU e Replay Attack\n",
    "* test_datasets: NUAA, MSU e Replay Attack (individualmente para cada experimento)\n",
    "\n",
    "| | RAW | Cropped |\n",
    "| ----------- | ----------- | ----------- |\n",
    "| Replay Attack | GUI-35 | FAS-28 | \n",
    "| NUAA | GUI-37 | FAS-26 |\n",
    "| MSU | GUI-38 | FAS-27 |"
   ]
  },
  {
   "cell_type": "markdown",
   "metadata": {},
   "source": [
    "## Subsampling"
   ]
  },
  {
   "cell_type": "markdown",
   "metadata": {},
   "source": [
    "### Table III\n",
    "\n",
    "Subsampling: \n",
    "\n",
    "* experimentos são INTER-DATASET\n",
    "* ideia central: validação de algoritmo de subsampling\n",
    "* train_datasets: NUAA, MSU, Replay Attack\n",
    "* test_datasets: NUAA, MSU, Replay Attack (individualmente para cada experimento)\n",
    "\n",
    "| | RAW | Subsampling |\n",
    "| ----------- | ----------- | ----------- |\n",
    "| Replay Attack | GUI-35 | CEC-37 | \n",
    "| NUAA | GUI-37 | CEC-49 |\n",
    "| MSU | GUI-38 | CEC-39 |"
   ]
  },
  {
   "cell_type": "markdown",
   "metadata": {},
   "source": [
    "## Face Alignment\n",
    "\n",
    "### Table IV \n",
    "\n",
    "tags _**Aligned**_ em FAS-Paper Neptune\n",
    "\n",
    "Alignement:\n",
    "\n",
    "* experimentos são INTRA-DATASET\n",
    "* ideia central: baixar o EER com um normalização maior das faces\n",
    "* train_datasets: NUAA, MSU, Replay Attack e OULU (individualmente)\n",
    "* test_datasets: NUAA, MSU, Replay Attack e OULU (individualmente)\n",
    "\n",
    "| | 125px | 100px | 75px | 67px | 50px |\n",
    "| ----------- | ----------- | ----------- | ----------- | ----------- | ----------- |\n",
    "| Replay Attack | FAS-13 | FAS-14 | FAS-15 | FAS-16 | FAS-18 |\n",
    "| NUAA | FAS-7 | FAS-6 | FAS-5 | FAS-4 | FAS-3 |\n",
    "| MSU | FAS-12 | FAS-11 | FAS-10 | FAS-9 | FAS-8 |\n",
    "| OULU | FAS-23 | FAS-22 | FAS-21 | FAS-20 | FAS-19 |\n"
   ]
  },
  {
   "cell_type": "markdown",
   "metadata": {},
   "source": [
    "## Brightness\n",
    "\n",
    "### Table V\n",
    "\n",
    "tags _**brightness_data_augmentation**_ em FAS-Paper Neptune\n",
    "\n",
    "Brightness:\n",
    "\n",
    "* experimentos são INTRA-DATASET\n",
    "* ideia central: baixar o EER com data augmentation no aspecto de brightness\n",
    "* train_datasets: NUAA, MSU, Replay Attack e OULU (individualmente)\n",
    "* test_datasets: NUAA, MSU, Replay Attack e OULU (individualmente)\n",
    "\n",
    "| | Without Brighteness DA | With Brightness DA |\n",
    "| ----------- | ----------- | ----------- |\n",
    "| Replay Attack | FAS-13 | FAS-35 | \n",
    "| NUAA | FAS-3 | FAS-34 |\n",
    "| MSU | FAS-8 | FAS-37 |\n",
    "| OULU | FAS-20 | FAS-39 |"
   ]
  },
  {
   "cell_type": "markdown",
   "metadata": {},
   "source": [
    "# Avaliação Geral : Comparação com Literatura\n",
    "\n",
    "## Table VI\n",
    "\n",
    "* Melhor resultado de alignment e comparação INTRA-DATASET com outros resultados da literatura\n",
    "* fonte principal: Survey\n",
    "  * métodos estáticos\n"
   ]
  }
 ],
 "metadata": {
  "kernelspec": {
   "display_name": "Python 3 (ipykernel)",
   "language": "python",
   "name": "python3"
  },
  "language_info": {
   "codemirror_mode": {
    "name": "ipython",
    "version": 3
   },
   "file_extension": ".py",
   "mimetype": "text/x-python",
   "name": "python",
   "nbconvert_exporter": "python",
   "pygments_lexer": "ipython3",
   "version": "3.8.12"
  },
  "toc-autonumbering": true
 },
 "nbformat": 4,
 "nbformat_minor": 4
}
